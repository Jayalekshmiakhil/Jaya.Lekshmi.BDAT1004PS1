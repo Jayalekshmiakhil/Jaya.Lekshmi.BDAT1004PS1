{
 "cells": [
  {
   "cell_type": "markdown",
   "id": "520193b0",
   "metadata": {},
   "source": [
    "Question 1\n",
    "What data type is each of the following?"
   ]
  },
  {
   "cell_type": "code",
   "execution_count": 23,
   "id": "94af8c86",
   "metadata": {},
   "outputs": [
    {
     "name": "stdout",
     "output_type": "stream",
     "text": [
      "System.Int32\r\n"
     ]
    }
   ],
   "source": [
    "var y = 5;\n",
    "Console.WriteLine(y.GetType());"
   ]
  },
  {
   "cell_type": "code",
   "execution_count": 25,
   "id": "339cb707",
   "metadata": {},
   "outputs": [
    {
     "name": "stdout",
     "output_type": "stream",
     "text": [
      "System.Double\r\n"
     ]
    }
   ],
   "source": [
    "var y = 5.0;\n",
    "Console.WriteLine(y.GetType());"
   ]
  },
  {
   "cell_type": "code",
   "execution_count": 26,
   "id": "50a9987c",
   "metadata": {},
   "outputs": [
    {
     "name": "stdout",
     "output_type": "stream",
     "text": [
      "System.Boolean\r\n"
     ]
    }
   ],
   "source": [
    "var y = 5>1;\n",
    "Console.WriteLine(y.GetType());"
   ]
  },
  {
   "cell_type": "code",
   "execution_count": 27,
   "id": "c8ad0f8e",
   "metadata": {},
   "outputs": [
    {
     "name": "stdout",
     "output_type": "stream",
     "text": [
      "System.Char\r\n"
     ]
    }
   ],
   "source": [
    "var y = '5';\n",
    "Console.WriteLine(y.GetType());"
   ]
  },
  {
   "cell_type": "code",
   "execution_count": 28,
   "id": "a1702847",
   "metadata": {},
   "outputs": [
    {
     "name": "stdout",
     "output_type": "stream",
     "text": [
      "System.Int32\r\n"
     ]
    }
   ],
   "source": [
    "var y = 5*2;\n",
    "Console.WriteLine(y.GetType());"
   ]
  },
  {
   "cell_type": "code",
   "execution_count": 30,
   "id": "e84b4187",
   "metadata": {},
   "outputs": [
    {
     "name": "stdout",
     "output_type": "stream",
     "text": [
      "System.Int32\r\n"
     ]
    }
   ],
   "source": [
    "var y = '5'*2;\n",
    "Console.WriteLine(y.GetType());"
   ]
  },
  {
   "cell_type": "code",
   "execution_count": 31,
   "id": "807b5f4b",
   "metadata": {},
   "outputs": [
    {
     "name": "stdout",
     "output_type": "stream",
     "text": [
      "System.Int32\r\n"
     ]
    }
   ],
   "source": [
    "var y = '5'+2;\n",
    "Console.WriteLine(y.GetType());"
   ]
  },
  {
   "cell_type": "code",
   "execution_count": 32,
   "id": "71024f0c",
   "metadata": {},
   "outputs": [
    {
     "name": "stdout",
     "output_type": "stream",
     "text": [
      "System.Int32\r\n"
     ]
    }
   ],
   "source": [
    "var y = 5/2;\n",
    "Console.WriteLine(y.GetType());"
   ]
  },
  {
   "cell_type": "code",
   "execution_count": 33,
   "id": "d8ad8e7f",
   "metadata": {},
   "outputs": [
    {
     "name": "stdout",
     "output_type": "stream",
     "text": [
      "System.Int32\r\n"
     ]
    }
   ],
   "source": [
    "var y = 5%2;\n",
    "Console.WriteLine(y.GetType());"
   ]
  },
  {
   "cell_type": "code",
   "execution_count": 34,
   "id": "d190a1b2",
   "metadata": {},
   "outputs": [
    {
     "name": "stdout",
     "output_type": "stream",
     "text": [
      "System.Int32[]\r\n"
     ]
    }
   ],
   "source": [
    "int[] array ={5,2,1};\n",
    "Console.WriteLine(array.GetType());"
   ]
  },
  {
   "cell_type": "code",
   "execution_count": 35,
   "id": "21935459",
   "metadata": {},
   "outputs": [
    {
     "name": "stdout",
     "output_type": "stream",
     "text": [
      "System.Boolean\r\n"
     ]
    }
   ],
   "source": [
    "var y = 5==3;\n",
    "Console.WriteLine(y.GetType());"
   ]
  },
  {
   "cell_type": "code",
   "execution_count": 1,
   "id": "6573c395",
   "metadata": {},
   "outputs": [
    {
     "name": "stdout",
     "output_type": "stream",
     "text": [
      "System.Double\r\n"
     ]
    }
   ],
   "source": [
    "var y = Math.PI;\n",
    "Console.WriteLine(y.GetType());"
   ]
  },
  {
   "cell_type": "markdown",
   "id": "0cb07464",
   "metadata": {},
   "source": [
    "Question 2\n",
    "Write (and evaluate) C# expressions that answer these questions:\n",
    "a. How many letters are there in 'Supercalifragilisticexpialidocious'?"
   ]
  },
  {
   "cell_type": "code",
   "execution_count": 1,
   "id": "04ba0858",
   "metadata": {},
   "outputs": [
    {
     "name": "stdout",
     "output_type": "stream",
     "text": [
      "Number of letters in the word Supercalifragilisticexpialidocious is 34\r\n"
     ]
    }
   ],
   "source": [
    "string input =\"Supercalifragilisticexpialidocious\";\n",
    "Console.WriteLine($\"Number of letters in the word {input} is {input.Length}\");"
   ]
  },
  {
   "cell_type": "markdown",
   "id": "83741763",
   "metadata": {},
   "source": [
    "b. Does 'Supercalifragilisticexpialidocious' contain 'ice' as a substring?\n"
   ]
  },
  {
   "cell_type": "code",
   "execution_count": 3,
   "id": "520170f9",
   "metadata": {},
   "outputs": [
    {
     "name": "stdout",
     "output_type": "stream",
     "text": [
      "True\r\n"
     ]
    }
   ],
   "source": [
    "string input =\"Supercalifragilisticexpialidocious\";\n",
    "bool answer = input.Contains(\"ice\");\n",
    "Console.WriteLine(answer);"
   ]
  },
  {
   "cell_type": "markdown",
   "id": "b379fae0",
   "metadata": {},
   "source": [
    "c. Which of the following words is the longest:Supercalifragilisticexpialidocious, Honorificabilitudinitatibus, orBababadalgharaghtakamminarronnkonn"
   ]
  },
  {
   "cell_type": "code",
   "execution_count": 38,
   "id": "f92e2ffb",
   "metadata": {},
   "outputs": [
    {
     "name": "stdout",
     "output_type": "stream",
     "text": [
      "The longest word from the following are: Supercalifragilisticexpialidocious, Bababadalgharaghtakamminarronnkonn\r\n"
     ]
    }
   ],
   "source": [
    "string input1 = \"Supercalifragilisticexpialidocious\";\n",
    "string input2 = \"Honorificabilitudinitatibus\";\n",
    "string input3 = \"Bababadalgharaghtakamminarronnkonn\";\n",
    "int length1 = input1.Length;\n",
    "int length2 = input2.Length;\n",
    "int length3 = input3.Length;\n",
    "string longestInput = \"\";\n",
    "int maximumLength = 0;\n",
    "if (length1 >= maximumLength)\n",
    "{\n",
    "  if (length1 > maximumLength)\n",
    "    {\n",
    "        maximumLength = length1;\n",
    "        longestInput = input1;\n",
    "     }\n",
    "\n",
    "    else\n",
    "    {\n",
    "        longestInput += \", \" + input1;\n",
    "    }\n",
    "}\n",
    "if (length2 >= maximumLength)\n",
    "{\n",
    "     if (length2 > maximumLength)\n",
    "     {\n",
    "        maximumLength = length2;\n",
    "        longestInput = input2;\n",
    "     }\n",
    "     else\n",
    "    {\n",
    "        longestInput += \", \" + input2;\n",
    "     }\n",
    "}\n",
    "if (length3 >= maximumLength)\n",
    "{\n",
    "    if (length3 > maximumLength)\n",
    "    {\n",
    "        maximumLength = length3;\n",
    "        longestInput= input3;\n",
    "     }\n",
    "    else\n",
    "    {\n",
    "       longestInput += \", \" + input3;\n",
    "     }\n",
    "}\n",
    "Console.WriteLine(\"The longest word from the following are: \" + longestInput);"
   ]
  },
  {
   "cell_type": "markdown",
   "id": "d09f28ea",
   "metadata": {},
   "source": [
    "d. Which composer comes first in the dictionary: 'Berlioz', 'Borodin', 'Brian','Bartok', 'Bellini', 'Buxtehude', 'Bernstein'. Which one comes last?"
   ]
  },
  {
   "cell_type": "code",
   "execution_count": 14,
   "id": "31757002",
   "metadata": {},
   "outputs": [
    {
     "name": "stdout",
     "output_type": "stream",
     "text": [
      " The Composer that come first in the dictionary is Bartok\n",
      " The Composer that come last in the dictionary is Buxtehude\n"
     ]
    }
   ],
   "source": [
    "string[] composers = { \"Berlioz\", \"Borodin\", \"Brian\", \"Bartok\", \"Bellini\", \"Buxtehude\", \"Bernstein\" };\n",
    "string composer1 = composers[0];\n",
    "string composer2 = composers[0];\n",
    " foreach (string compos in composers)\n",
    "\n",
    "{\n",
    "if (string.Compare(compos, composer1) < 0)\n",
    "   {\n",
    "        composer1 = compos;\n",
    "    }\n",
    "    else if (string.Compare(compos, composer2) > 0)\n",
    "    {\n",
    "        composer2 = compos;\n",
    "     }\n",
    "}\n",
    "Console.WriteLine($\" The Composer that come first in the dictionary is {composer1}\");\n",
    "Console.WriteLine($\" The Composer that come last in the dictionary is {composer2}\");"
   ]
  },
  {
   "cell_type": "markdown",
   "id": "dd26b19d",
   "metadata": {},
   "source": [
    "Question 3\n",
    "Implement function triangleArea(a,b,c) that takes as input the lengths of the 3sides of a triangle and returns the area of the triangle. By Heron's formula, the area of a triangle with side lengths a, b, and c iss(s - a)(s - b)(s - c) , where s = (a + b + c)"
   ]
  },
  {
   "cell_type": "markdown",
   "id": "4db541f1",
   "metadata": {},
   "source": []
  },
  {
   "cell_type": "code",
   "execution_count": 16,
   "id": "1cbeac3d",
   "metadata": {},
   "outputs": [
    {
     "name": "stdout",
     "output_type": "stream",
     "text": [
      "Area of the triangle is: 1.7320508075688772\r\n"
     ]
    }
   ],
   "source": [
    "static double triangleArea(double a, double b, double c)\n",
    "{\n",
    "    double s = (a + b + c) / 2;\n",
    "    double Area = Math.Sqrt(s * (s - a) * (s - b) * (s - c));\n",
    "    return Area;\n",
    "}\n",
    "double area = triangleArea(2,2,2);\n",
    "Console.WriteLine($\"Area of the triangle is: {area}\");\n"
   ]
  },
  {
   "cell_type": "markdown",
   "id": "90e4d1f2",
   "metadata": {},
   "source": [
    "Question 4\n",
    "Write a program in C# Sharp to separate odd and even integers in separate arrays.\n",
    "Go to the editor\n",
    "Test Data :\n",
    "Input the number of elements to be stored in the array :5\n",
    "Input 5 elements in the array :\n",
    "element - 0 : 25\n",
    "element - 1 : 47\n",
    "element - 2 : 42\n",
    "element - 3 : 56\n",
    "element - 4 : 32\n",
    "Expected Output:"
   ]
  },
  {
   "cell_type": "code",
   "execution_count": 20,
   "id": "a8105554",
   "metadata": {},
   "outputs": [
    {
     "name": "stdout",
     "output_type": "stream",
     "text": [
      "The Even elements are\n",
      "42 56 32 \n",
      "The Odd elements are:\n",
      "25 47 \n"
     ]
    }
   ],
   "source": [
    "int n = 5;\n",
    "int[] inputArray = new int [n];\n",
    "int[] evenArray = new int[n];\n",
    "int[] oddArray = new int[n];\n",
    "inputArray[0] = 25;\n",
    "inputArray[1] = 47;\n",
    "inputArray[2] = 42;\n",
    "inputArray[3] = 56;\n",
    "inputArray[4] = 32;\n",
    "int evenCount = 0;\n",
    "int oddCount = 0;\n",
    "foreach (int num in inputArray)\n",
    "{\n",
    "    if (num % 2 == 0)\n",
    "    {\n",
    "        evenArray[evenCount] = num;\n",
    "        evenCount++;\n",
    "    }\n",
    "    else\n",
    "    {\n",
    "        oddArray[oddCount] = num;\n",
    "        oddCount++;\n",
    "    }\n",
    "}\n",
    "Console.WriteLine($\"The Even elements are\");\n",
    "for (int i = 0; i < evenCount; i++)\n",
    "{\n",
    "    Console.Write(evenArray[i] + \" \");\n",
    "}\n",
    "Console.WriteLine();\n",
    "\n",
    " \n",
    "\n",
    "Console.WriteLine(\"The Odd elements are:\");\n",
    "for (int i = 0; i < oddCount; i++)\n",
    "{\n",
    "    Console.Write(oddArray[i] + \" \");\n",
    "}\n",
    "Console.WriteLine();\n"
   ]
  },
  {
   "cell_type": "markdown",
   "id": "93bc06e0",
   "metadata": {},
   "source": [
    "Question 5\n",
    "a. Write a function inside(x,y,x1,y1,x2,y2) that returns True or Falsedepending on whether the point (x,y) lies in the rectangle with lower leftcorner (x1,y1) and upper right corner (x2,y2)."
   ]
  },
  {
   "cell_type": "code",
   "execution_count": 22,
   "id": "70090250",
   "metadata": {},
   "outputs": [
    {
     "name": "stdout",
     "output_type": "stream",
     "text": [
      "Inside point(1,1,0,0,2,3): True\n",
      "Inside point(-1,-1,0,0,2,3): False\n"
     ]
    }
   ],
   "source": [
    "static bool inside(double x, double y, double x1, double y1, double x2, double y2)\n",
    "{\n",
    "     return (x >= x1 && x <= x2 && y >= y1 && y <= y2);\n",
    "}\n",
    "bool InsideRectangle1 = inside(1,1,0,0,2,3);\n",
    "bool InsideRectangle2 = inside(-1,-1,0,0,2,3);\n",
    "if (InsideRectangle1)\n",
    "{\n",
    "    Console.WriteLine($\"Inside point(1,1,0,0,2,3): True\");\n",
    "}\n",
    "else\n",
    "{\n",
    "    Console.WriteLine($\"inside point(1,1,0,0,2,3): False\");\n",
    "}\n",
    "if (InsideRectangle2)\n",
    "{\n",
    "    Console.WriteLine($\"Inside point(-1,-1,0,0,2,3): True\");\n",
    "}\n",
    "else\n",
    "{\n",
    "    Console.WriteLine($\"Inside point(-1,-1,0,0,2,3): False\");\n",
    "}"
   ]
  },
  {
   "cell_type": "markdown",
   "id": "8febcd95",
   "metadata": {},
   "source": []
  },
  {
   "cell_type": "code",
   "execution_count": null,
   "id": "30c06b35",
   "metadata": {},
   "outputs": [],
   "source": []
  },
  {
   "cell_type": "code",
   "execution_count": null,
   "id": "6af3a2e9",
   "metadata": {},
   "outputs": [],
   "source": []
  }
 ],
 "metadata": {
  "kernelspec": {
   "display_name": ".NET (C#)",
   "language": "C#",
   "name": ".net-csharp"
  },
  "language_info": {
   "file_extension": ".cs",
   "mimetype": "text/x-csharp",
   "name": "C#",
   "pygments_lexer": "csharp",
   "version": "8.0"
  }
 },
 "nbformat": 4,
 "nbformat_minor": 5
}
