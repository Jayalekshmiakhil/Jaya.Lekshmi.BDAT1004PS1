{
 "cells": [
  {
   "cell_type": "markdown",
   "id": "7b1b8a45",
   "metadata": {},
   "source": [
    "Question 6\n",
    "You can turn a word into pig-Latin using the following two rules (simplified):\n",
    " • If the word starts with a consonant, move that letter to the end and append'ay'. For example, 'happy' becomes 'appyhay' and 'pencil' becomes 'encilpay'.\n",
    " • If the word starts with a vowel, simply append 'way' to the end of the word.\n",
    " For example, 'enter' becomes 'enterway' and 'other' becomes 'otherway' . Forour purposes, there are 5 vowels: a, e, i, o, u (so we count y as a consonant).Write a function pig() that takes a word (i.e., a string) as input and returns its pig-Latin form. Your function should still work if the input word contains upper casecharacters. Your output should always be lower case however."
   ]
  },
  {
   "cell_type": "code",
   "execution_count": 14,
   "id": "bbc76575",
   "metadata": {},
   "outputs": [
    {
     "name": "stdout",
     "output_type": "stream",
     "text": [
      "appyhay\n",
      "encilpay\n",
      "enterway\n",
      "otherway\n"
     ]
    }
   ],
   "source": [
    "def pig(word):\n",
    "    word = word.lower()\n",
    "    vowels = 'a','e','i','o','u'\n",
    "    if word [0] in vowels:\n",
    "        word_pig_Latin = word + 'way'\n",
    "    else:\n",
    "        for index, letter in enumerate(word):\n",
    "            if letter in vowels:\n",
    "                break\n",
    "        word_pig_Latin = word[index:] + word[:index] + 'ay'\n",
    "    return word_pig_Latin\n",
    "print(pig(\"happy\"))\n",
    "print(pig(\"pencil\"))\n",
    "print(pig(\"enter\"))\n",
    "print(pig(\"other\"))"
   ]
  },
  {
   "cell_type": "markdown",
   "id": "4bd80d3f",
   "metadata": {},
   "source": [
    "Question 7\n",
    "File bloodtype1.txt records blood-types of patients (A, B, AB, O or OO) at a clinic.Write a function bldcount() that reads the file with name name and reports (i.e.,prints) how many patients there are in each bloodtype."
   ]
  },
  {
   "cell_type": "code",
   "execution_count": 46,
   "id": "9acd88d2",
   "metadata": {},
   "outputs": [
    {
     "name": "stdout",
     "output_type": "stream",
     "text": [
      "There are 15 patients having blood type A\n",
      "There are 1 patients having blood type B\n",
      "There are 13 patients having blood type AB\n",
      "There are 15 patients having blood type O\n",
      "There are 0 patients having blood type OO\n"
     ]
    }
   ],
   "source": [
    "def bldcount(file_name):\n",
    " a = open(file_name, \"r\")\n",
    " get_type = a.read()\n",
    " get_count = 0\n",
    " convert_array =get_type.split()\n",
    " blood_type = ['A','B','AB','O','OO']\n",
    " for p in blood_type:\n",
    "    get_count =convert_array.count(p)\n",
    "    print(\"There are {0} patients having blood type {1}\".format(get_count,p))\n",
    "bldcount(\"bloodtype1.txt\")"
   ]
  },
  {
   "cell_type": "markdown",
   "id": "246f763c",
   "metadata": {},
   "source": [
    "Question 8\n",
    "Write a function curconv() that takes as input:1. a currency represented using a string (e.g., 'JPY' for the Japanese Yen or'EUR' for the Euro)2. an amountand then converts and returns the amount in US dollars."
   ]
  },
  {
   "cell_type": "code",
   "execution_count": 8,
   "id": "ed3c7194",
   "metadata": {},
   "outputs": [
    {
     "name": "stdout",
     "output_type": "stream",
     "text": [
      "Enter Currency\n",
      "EUR\n",
      "EUR\n",
      "Enter Value\n",
      "100\n",
      "100\n",
      "122.96544\n",
      "\n",
      "Enter Currency\n",
      "JPY\n",
      "JPY\n",
      "Enter Value\n",
      "100\n",
      "100\n",
      "1.241401\n"
     ]
    }
   ],
   "source": [
    "def curconv(curr_nam,curr_mon):\n",
    "    f = open(\"currencies.txt\", \"r\") \n",
    "    data_read = f.read()\n",
    "    splitdata = data_read.split()\n",
    "    dataindex = splitdata.index(curr_nam)\n",
    "    conv_value = splitdata[dataindex+1]\n",
    "    calcul_result = float(conv_value) * float(curr_mon)\n",
    "    print(calcul_result)\n",
    "print(\"Enter Currency\")\n",
    "curr_nam = input()\n",
    "print(curr_nam)\n",
    "print(\"Enter Value\")\n",
    "curr_mon = input()\n",
    "print(curr_mon)\n",
    "curconv(curr_nam,curr_mon)\n",
    "print()\n",
    "print(\"Enter Currency\")\n",
    "curr_nam = input()\n",
    "print(curr_nam)\n",
    "print(\"Enter Value\")\n",
    "curr_mon = input()\n",
    "print(curr_mon)\n",
    "curconv(curr_nam,curr_mon)"
   ]
  },
  {
   "cell_type": "markdown",
   "id": "d3e314f3",
   "metadata": {},
   "source": [
    "Question 9\n",
    "Each of the following will cause an exception (an error). Identify what type ofexception each will cause."
   ]
  },
  {
   "cell_type": "markdown",
   "id": "cde9b97e",
   "metadata": {},
   "source": [
    "a.Trying to add incompatible variables, as inadding 6 + ‘a’"
   ]
  },
  {
   "cell_type": "code",
   "execution_count": 9,
   "id": "03ef5355",
   "metadata": {},
   "outputs": [
    {
     "ename": "TypeError",
     "evalue": "unsupported operand type(s) for +: 'int' and 'str'",
     "output_type": "error",
     "traceback": [
      "\u001b[1;31m---------------------------------------------------------------------------\u001b[0m",
      "\u001b[1;31mTypeError\u001b[0m                                 Traceback (most recent call last)",
      "Cell \u001b[1;32mIn[9], line 1\u001b[0m\n\u001b[1;32m----> 1\u001b[0m \u001b[38;5;241m6\u001b[39m \u001b[38;5;241m+\u001b[39m \u001b[38;5;124m'\u001b[39m\u001b[38;5;124ma\u001b[39m\u001b[38;5;124m'\u001b[39m\n",
      "\u001b[1;31mTypeError\u001b[0m: unsupported operand type(s) for +: 'int' and 'str'"
     ]
    }
   ],
   "source": [
    "6 + 'a'"
   ]
  },
  {
   "cell_type": "markdown",
   "id": "35f3c2a1",
   "metadata": {},
   "source": [
    "b.Referring to the 12th item of a list that has only 10items"
   ]
  },
  {
   "cell_type": "code",
   "execution_count": 11,
   "id": "cc3fb1b4",
   "metadata": {},
   "outputs": [
    {
     "ename": "IndexError",
     "evalue": "list index out of range",
     "output_type": "error",
     "traceback": [
      "\u001b[1;31m---------------------------------------------------------------------------\u001b[0m",
      "\u001b[1;31mIndexError\u001b[0m                                Traceback (most recent call last)",
      "Cell \u001b[1;32mIn[11], line 2\u001b[0m\n\u001b[0;32m      1\u001b[0m Set \u001b[38;5;241m=\u001b[39m [\u001b[38;5;241m1\u001b[39m, \u001b[38;5;241m2\u001b[39m, \u001b[38;5;241m3\u001b[39m, \u001b[38;5;241m4\u001b[39m, \u001b[38;5;241m5\u001b[39m, \u001b[38;5;241m6\u001b[39m, \u001b[38;5;241m7\u001b[39m, \u001b[38;5;241m8\u001b[39m, \u001b[38;5;241m9\u001b[39m, \u001b[38;5;241m10\u001b[39m]\n\u001b[1;32m----> 2\u001b[0m thing \u001b[38;5;241m=\u001b[39m Set[\u001b[38;5;241m11\u001b[39m]\n",
      "\u001b[1;31mIndexError\u001b[0m: list index out of range"
     ]
    }
   ],
   "source": [
    "Set = [1, 2, 3, 4, 5, 6, 7, 8, 9, 10]\n",
    "thing = Set[11]"
   ]
  },
  {
   "cell_type": "markdown",
   "id": "96ff5fbb",
   "metadata": {},
   "source": [
    "c.Using a value that is out of range for a function’sinput, such as calling math.sqrt(-1.0)"
   ]
  },
  {
   "cell_type": "code",
   "execution_count": 12,
   "id": "9fca6ebd",
   "metadata": {},
   "outputs": [
    {
     "ename": "ValueError",
     "evalue": "math domain error",
     "output_type": "error",
     "traceback": [
      "\u001b[1;31m---------------------------------------------------------------------------\u001b[0m",
      "\u001b[1;31mValueError\u001b[0m                                Traceback (most recent call last)",
      "Cell \u001b[1;32mIn[12], line 2\u001b[0m\n\u001b[0;32m      1\u001b[0m \u001b[38;5;28;01mimport\u001b[39;00m \u001b[38;5;21;01mmath\u001b[39;00m\n\u001b[1;32m----> 2\u001b[0m answer \u001b[38;5;241m=\u001b[39m math\u001b[38;5;241m.\u001b[39msqrt(\u001b[38;5;241m-\u001b[39m\u001b[38;5;241m1.0\u001b[39m)\n",
      "\u001b[1;31mValueError\u001b[0m: math domain error"
     ]
    }
   ],
   "source": [
    "import math\n",
    "answer = math.sqrt(-1.0)"
   ]
  },
  {
   "cell_type": "markdown",
   "id": "c0786954",
   "metadata": {},
   "source": [
    "d.Trying to open a file that does not exist, such asmistyping the file name or looking in the wrongdirectory."
   ]
  },
  {
   "cell_type": "code",
   "execution_count": 14,
   "id": "a90c6b65",
   "metadata": {},
   "outputs": [
    {
     "ename": "FileNotFoundError",
     "evalue": "[Errno 2] No such file or directory: 'nonexistent_file.txt'",
     "output_type": "error",
     "traceback": [
      "\u001b[1;31m---------------------------------------------------------------------------\u001b[0m",
      "\u001b[1;31mFileNotFoundError\u001b[0m                         Traceback (most recent call last)",
      "Cell \u001b[1;32mIn[14], line 2\u001b[0m\n\u001b[0;32m      1\u001b[0m name \u001b[38;5;241m=\u001b[39m \u001b[38;5;124m'\u001b[39m\u001b[38;5;124mnonexistent_file.txt\u001b[39m\u001b[38;5;124m'\u001b[39m\n\u001b[1;32m----> 2\u001b[0m \u001b[38;5;28;01mwith\u001b[39;00m \u001b[38;5;28mopen\u001b[39m(name, \u001b[38;5;124m'\u001b[39m\u001b[38;5;124mr\u001b[39m\u001b[38;5;124m'\u001b[39m) \u001b[38;5;28;01mas\u001b[39;00m file:\n\u001b[0;32m      3\u001b[0m     content \u001b[38;5;241m=\u001b[39m name\u001b[38;5;241m.\u001b[39mread()\n",
      "File \u001b[1;32m~\\anaconda3\\Lib\\site-packages\\IPython\\core\\interactiveshell.py:284\u001b[0m, in \u001b[0;36m_modified_open\u001b[1;34m(file, *args, **kwargs)\u001b[0m\n\u001b[0;32m    277\u001b[0m \u001b[38;5;28;01mif\u001b[39;00m file \u001b[38;5;129;01min\u001b[39;00m {\u001b[38;5;241m0\u001b[39m, \u001b[38;5;241m1\u001b[39m, \u001b[38;5;241m2\u001b[39m}:\n\u001b[0;32m    278\u001b[0m     \u001b[38;5;28;01mraise\u001b[39;00m \u001b[38;5;167;01mValueError\u001b[39;00m(\n\u001b[0;32m    279\u001b[0m         \u001b[38;5;124mf\u001b[39m\u001b[38;5;124m\"\u001b[39m\u001b[38;5;124mIPython won\u001b[39m\u001b[38;5;124m'\u001b[39m\u001b[38;5;124mt let you open fd=\u001b[39m\u001b[38;5;132;01m{\u001b[39;00mfile\u001b[38;5;132;01m}\u001b[39;00m\u001b[38;5;124m by default \u001b[39m\u001b[38;5;124m\"\u001b[39m\n\u001b[0;32m    280\u001b[0m         \u001b[38;5;124m\"\u001b[39m\u001b[38;5;124mas it is likely to crash IPython. If you know what you are doing, \u001b[39m\u001b[38;5;124m\"\u001b[39m\n\u001b[0;32m    281\u001b[0m         \u001b[38;5;124m\"\u001b[39m\u001b[38;5;124myou can use builtins\u001b[39m\u001b[38;5;124m'\u001b[39m\u001b[38;5;124m open.\u001b[39m\u001b[38;5;124m\"\u001b[39m\n\u001b[0;32m    282\u001b[0m     )\n\u001b[1;32m--> 284\u001b[0m \u001b[38;5;28;01mreturn\u001b[39;00m io_open(file, \u001b[38;5;241m*\u001b[39margs, \u001b[38;5;241m*\u001b[39m\u001b[38;5;241m*\u001b[39mkwargs)\n",
      "\u001b[1;31mFileNotFoundError\u001b[0m: [Errno 2] No such file or directory: 'nonexistent_file.txt'"
     ]
    }
   ],
   "source": [
    "name = 'nonexistent_file.txt'\n",
    "with open(name, 'r') as file:\n",
    "    content = file.read()"
   ]
  },
  {
   "cell_type": "markdown",
   "id": "c4dabd44",
   "metadata": {},
   "source": [
    "Question 10\n",
    "Encryption is the process of hiding the meaning of a text by substituting letters in themessage with other letters, according to some system. If the process is successful, noone but the intended recipient can understand the encrypted message. Cryptanalysisrefers to attempts to undo the encryption, even if some details of the encryption areunknown (for example, if an encrypted message has been intercepted). The first stepof cryptanalysis is often to build up a table of letter frequencies in the encrypted text.Assume that the string letters is already defined as'abcdefghijklmnopqrstuvwxyz'. Write a function called frequencies()that takes a string as its only parameter, and returns a list of integers, showing thenumber of times each character appears in the text. Your function may ignore anycharacters that are not in letters."
   ]
  },
  {
   "cell_type": "code",
   "execution_count": 16,
   "id": "95a1bcd9",
   "metadata": {},
   "outputs": [
    {
     "name": "stdout",
     "output_type": "stream",
     "text": [
      "[1, 1, 1, 3, 5, 1, 1, 2, 1, 0, 1, 0, 1, 2, 4, 0, 1, 2, 0, 2, 1, 0, 1, 1, 0, 0]\n",
      "[1, 0, 0, 0, 1, 0, 0, 0, 0, 0, 0, 1, 0, 0, 0, 2, 0, 0, 0, 0, 0, 0, 0, 0, 0, 0]\n"
     ]
    }
   ],
   "source": [
    "def frequencies(get_result):\n",
    "    char_result = []\n",
    "    char_array = []\n",
    "    result_letters = \"abcdefghijklmnopkrstuvwxyz\"\n",
    "    for p in get_result:\n",
    "        char_result.append(p)\n",
    "    for p in result_letters:\n",
    "        char_array.append(char_result.count(p))\n",
    "    print(char_array)\n",
    "frequencies('The quick red fox got bored and went home')\n",
    "frequencies('apple')"
   ]
  },
  {
   "cell_type": "code",
   "execution_count": null,
   "id": "5fb5cb66",
   "metadata": {},
   "outputs": [],
   "source": []
  }
 ],
 "metadata": {
  "kernelspec": {
   "display_name": "Python 3 (ipykernel)",
   "language": "python",
   "name": "python3"
  },
  "language_info": {
   "codemirror_mode": {
    "name": "ipython",
    "version": 3
   },
   "file_extension": ".py",
   "mimetype": "text/x-python",
   "name": "python",
   "nbconvert_exporter": "python",
   "pygments_lexer": "ipython3",
   "version": "3.11.4"
  }
 },
 "nbformat": 4,
 "nbformat_minor": 5
}
